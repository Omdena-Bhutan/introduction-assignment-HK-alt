{
  "nbformat": 4,
  "nbformat_minor": 0,
  "metadata": {
    "colab": {
      "provenance": [],
      "authorship_tag": "ABX9TyMlfokSHPObVhf6BUCDpfN4",
      "include_colab_link": true
    },
    "kernelspec": {
      "name": "python3",
      "display_name": "Python 3"
    },
    "language_info": {
      "name": "python"
    }
  },
  "cells": [
    {
      "cell_type": "markdown",
      "metadata": {
        "id": "view-in-github",
        "colab_type": "text"
      },
      "source": [
        "<a href=\"https://colab.research.google.com/github/Omdena-Bhutan/introduction-assignment-HK-alt/blob/main/Assignment1.ipynb\" target=\"_parent\"><img src=\"https://colab.research.google.com/assets/colab-badge.svg\" alt=\"Open In Colab\"/></a>"
      ]
    },
    {
      "cell_type": "code",
      "source": [
        "\n",
        "# assignment 1\n",
        "import datetime\n",
        "\n",
        "def main():\n",
        "    # Get user's age\n",
        "    try:\n",
        "        age = int(input(\"Please enter your age: \"))\n",
        "    except ValueError:\n",
        "        print(\"Please enter a valid number for age.\")\n",
        "        return\n",
        "\n",
        "    # Determine base ticket price based on age\n",
        "    if age < 0:\n",
        "        print(\"Age cannot be negative. Please enter a valid age.\")\n",
        "    elif age < 12:\n",
        "        price = 300\n",
        "    elif 12 <= age <= 17:\n",
        "        price = 500\n",
        "    elif 18 <= age <= 59:\n",
        "        price = 800\n",
        "    else:\n",
        "        price = 400\n",
        "\n",
        "    # Check if today is Wednesday for discount\n",
        "    today = datetime.datetime.today().strftime(\"%A\")\n",
        "    if today == \"Wednesday\":\n",
        "        discount = 100\n",
        "        final_price = max(price - discount, 0)  # Ensure price doesn't go negative\n",
        "        print(f\"Today is Wednesday! You get a 100 discount.\")\n",
        "        print(f\"Your ticket price is {final_price}\")\n",
        "    else:\n",
        "        print(f\"Your ticket price is {price}\")\n",
        "\n",
        "if __name__ == \"__main__\":\n",
        "    main()"
      ],
      "metadata": {
        "colab": {
          "base_uri": "https://localhost:8080/"
        },
        "id": "1vrZfxdTM0BY",
        "outputId": "0579b262-0c12-421b-b459-8091c27e9057"
      },
      "execution_count": null,
      "outputs": [
        {
          "output_type": "stream",
          "name": "stdout",
          "text": [
            "Please enter your age: 2\n",
            "Your ticket price is 300\n",
            "Welcome to the Number Guessing Game!\n",
            "I'm thinking of a number between 1 and 10.\n",
            "Enter your guess: 2\n",
            "That's not right. Try again!\n",
            "Enter your guess: 10\n",
            "That's not right. Try again!\n",
            "Enter your guess: 1\n",
            "That's not right. Try again!\n"
          ]
        }
      ]
    }
  ]
}